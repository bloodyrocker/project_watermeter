{
 "cells": [
  {
   "cell_type": "markdown",
   "metadata": {},
   "source": [
    "# 2017 공공 빅데이터 공모전\n",
    "## 수도미터 동파 예측 알고리즘 개발 및 대국민 동파예보 시행"
   ]
  },
  {
   "cell_type": "markdown",
   "metadata": {},
   "source": [
    "\n",
    "> ### ■ 주최·주관/후원\n",
    "> * 행정자치부, 한국정보화진흥원/한국수자원공사\n",
    "\n",
    "> ### ■ 일정\n",
    "> * 공모접수 : ‘17.6.27.~7.9.\n",
    "> * 최종 결과물 제출: ~‘17.8.20.\n",
    "> * 1차 서류 심사: ‘17.8.25.\n",
    "> * 2차 순위결정전 및 시상: ‘17.8.30.\n",
    "\n",
    "> ### ■ 제출자\n",
    "> * 이름 : 최재완\n",
    "> * e-Mail : <billiekorea@gmail.com>\n",
    "\n",
    "> ### ■ 이용 도구\n",
    "> * 데이터 탐색 / 전처리 : Microsoft Excel/PowerPoint, Python 3\n",
    "> * 데이터 분석 : Python 3\n",
    "> * 데이터 시각화 : Microsoft Excel/PowerPoint/Power BI\n",
    "> * 결과보고 : 한컴오피스 한글, Microsoft PowerPoint\n",
    "\n",
    "> ### ■ 알고리즘\n",
    "> * Logistic Regression\n",
    "> * Random Forest\n",
    "\n"
   ]
  },
  {
   "cell_type": "markdown",
   "metadata": {},
   "source": [
    "<br><br>\n",
    "\n",
    "---\n",
    "\n",
    "<br><br>"
   ]
  },
  {
   "cell_type": "markdown",
   "metadata": {},
   "source": [
    "# 1. 데이터 탐색 / 전처리 (EDA : Exploratory Data Analysis) "
   ]
  },
  {
   "cell_type": "markdown",
   "metadata": {},
   "source": [
    "### 1.1 제공된 데이터셋 (NIA : 한국정보화진흥원)\n",
    "> a. 동파 발생 데이터  \n",
    "> b. 수용가 데이터  \n",
    "> c. 수도미터 데이터  \n",
    "> d. 급수관로 데이터  "
   ]
  },
  {
   "cell_type": "markdown",
   "metadata": {},
   "source": [
    "### 1.2 import library"
   ]
  },
  {
   "cell_type": "code",
   "execution_count": 1,
   "metadata": {},
   "outputs": [
    {
     "name": "stderr",
     "output_type": "stream",
     "text": [
      "/Library/Frameworks/Python.framework/Versions/3.6/lib/python3.6/site-packages/sklearn/cross_validation.py:44: DeprecationWarning: This module was deprecated in version 0.18 in favor of the model_selection module into which all the refactored classes and functions are moved. Also note that the interface of the new CV iterators are different from that of this module. This module will be removed in 0.20.\n",
      "  \"This module will be removed in 0.20.\", DeprecationWarning)\n"
     ]
    }
   ],
   "source": [
    "# -*- coding: utf-8 -*-\n",
    "\n",
    "import numpy as np\n",
    "import pandas as pd\n",
    "from matplotlib import pyplot as plt\n",
    "import seaborn as sns\n",
    "from pandas import DataFrame, Series\n",
    "import xlrd\n",
    "\n",
    "import re\n",
    "from pprint import pprint\n",
    "\n",
    "from sklearn.pipeline import Pipeline\n",
    "from sklearn.pipeline import FeatureUnion\n",
    "from sklearn.preprocessing import LabelBinarizer\n",
    "from sklearn.preprocessing import LabelEncoder\n",
    "from sklearn.preprocessing import MinMaxScaler, StandardScaler\n",
    "\n",
    "from sklearn.model_selection import train_test_split\n",
    "from sklearn.model_selection import cross_val_score\n",
    "from sklearn import cross_validation\n",
    "\n",
    "import xgboost as xgb\n",
    "\n",
    "%matplotlib inline\n",
    "\n",
    "pd.set_option('display.max_columns', None)\n",
    "pd.set_option('display.max_rows', None)"
   ]
  },
  {
   "cell_type": "markdown",
   "metadata": {},
   "source": [
    "### 1.3 read DataSet (Excel File)"
   ]
  },
  {
   "cell_type": "code",
   "execution_count": 2,
   "metadata": {
    "collapsed": true
   },
   "outputs": [],
   "source": [
    "paju = pd.read_excel('paju_data_ver2.xlsx')"
   ]
  },
  {
   "cell_type": "code",
   "execution_count": 3,
   "metadata": {
    "collapsed": true
   },
   "outputs": [],
   "source": [
    "X_test = pd.read_excel('paju_data_ver3_test.xlsx')\n",
    "X_train = pd.read_excel('paju_data_ver3_train.xlsx')"
   ]
  },
  {
   "cell_type": "code",
   "execution_count": 4,
   "metadata": {},
   "outputs": [
    {
     "data": {
      "text/html": [
       "<div>\n",
       "<style>\n",
       "    .dataframe thead tr:only-child th {\n",
       "        text-align: right;\n",
       "    }\n",
       "\n",
       "    .dataframe thead th {\n",
       "        text-align: left;\n",
       "    }\n",
       "\n",
       "    .dataframe tbody tr th {\n",
       "        vertical-align: top;\n",
       "    }\n",
       "</style>\n",
       "<table border=\"1\" class=\"dataframe\">\n",
       "  <thead>\n",
       "    <tr style=\"text-align: right;\">\n",
       "      <th></th>\n",
       "      <th>ID</th>\n",
       "      <th>break</th>\n",
       "      <th>date</th>\n",
       "      <th>today_avr</th>\n",
       "      <th>today_low</th>\n",
       "      <th>yesterday_avr</th>\n",
       "      <th>yesterday_low</th>\n",
       "      <th>continue_days_avr</th>\n",
       "      <th>continue_days_low</th>\n",
       "      <th>gap_degrees</th>\n",
       "      <th>district</th>\n",
       "      <th>status_open</th>\n",
       "      <th>stauts_close</th>\n",
       "      <th>status_stop</th>\n",
       "      <th>category_home</th>\n",
       "      <th>category_ordinary</th>\n",
       "      <th>category_sauna</th>\n",
       "      <th>meter_id</th>\n",
       "      <th>meter_mfg_no</th>\n",
       "      <th>mm</th>\n",
       "    </tr>\n",
       "  </thead>\n",
       "  <tbody>\n",
       "    <tr>\n",
       "      <th>10451</th>\n",
       "      <td>414801000873</td>\n",
       "      <td>1</td>\n",
       "      <td>2016-02-22</td>\n",
       "      <td>0.0</td>\n",
       "      <td>-4.9</td>\n",
       "      <td>0.0</td>\n",
       "      <td>-6.0</td>\n",
       "      <td>0</td>\n",
       "      <td>9</td>\n",
       "      <td>-1.1</td>\n",
       "      <td>yadang-dong</td>\n",
       "      <td>0</td>\n",
       "      <td>1</td>\n",
       "      <td>0</td>\n",
       "      <td>0</td>\n",
       "      <td>1</td>\n",
       "      <td>0</td>\n",
       "      <td>2015609917</td>\n",
       "      <td>K-S15-013459</td>\n",
       "      <td>13.0</td>\n",
       "    </tr>\n",
       "    <tr>\n",
       "      <th>10452</th>\n",
       "      <td>414800924512</td>\n",
       "      <td>0</td>\n",
       "      <td>2016-09-08</td>\n",
       "      <td>21.2</td>\n",
       "      <td>18.8</td>\n",
       "      <td>22.6</td>\n",
       "      <td>18.7</td>\n",
       "      <td>0</td>\n",
       "      <td>0</td>\n",
       "      <td>-0.1</td>\n",
       "      <td>jori-eup</td>\n",
       "      <td>0</td>\n",
       "      <td>1</td>\n",
       "      <td>0</td>\n",
       "      <td>1</td>\n",
       "      <td>0</td>\n",
       "      <td>0</td>\n",
       "      <td>2016066284</td>\n",
       "      <td>PAJU-S16-103156</td>\n",
       "      <td>13.0</td>\n",
       "    </tr>\n",
       "    <tr>\n",
       "      <th>10453</th>\n",
       "      <td>414800922974</td>\n",
       "      <td>0</td>\n",
       "      <td>2016-11-08</td>\n",
       "      <td>3.1</td>\n",
       "      <td>-2.3</td>\n",
       "      <td>0.8</td>\n",
       "      <td>-5.0</td>\n",
       "      <td>0</td>\n",
       "      <td>1</td>\n",
       "      <td>-2.7</td>\n",
       "      <td>yadang-dong</td>\n",
       "      <td>0</td>\n",
       "      <td>1</td>\n",
       "      <td>0</td>\n",
       "      <td>1</td>\n",
       "      <td>0</td>\n",
       "      <td>0</td>\n",
       "      <td>2016063164</td>\n",
       "      <td>PAJU-S16-100035</td>\n",
       "      <td>13.0</td>\n",
       "    </tr>\n",
       "    <tr>\n",
       "      <th>10454</th>\n",
       "      <td>414800923423</td>\n",
       "      <td>0</td>\n",
       "      <td>2016-10-08</td>\n",
       "      <td>16.1</td>\n",
       "      <td>9.7</td>\n",
       "      <td>10.2</td>\n",
       "      <td>4.2</td>\n",
       "      <td>0</td>\n",
       "      <td>0</td>\n",
       "      <td>-5.5</td>\n",
       "      <td>sangjiseok-dong</td>\n",
       "      <td>0</td>\n",
       "      <td>1</td>\n",
       "      <td>0</td>\n",
       "      <td>1</td>\n",
       "      <td>0</td>\n",
       "      <td>0</td>\n",
       "      <td>2016064690</td>\n",
       "      <td>PAJU-S16-101562</td>\n",
       "      <td>13.0</td>\n",
       "    </tr>\n",
       "    <tr>\n",
       "      <th>10455</th>\n",
       "      <td>414801604013</td>\n",
       "      <td>1</td>\n",
       "      <td>2017-04-11</td>\n",
       "      <td>14.0</td>\n",
       "      <td>9.5</td>\n",
       "      <td>9.5</td>\n",
       "      <td>3.3</td>\n",
       "      <td>0</td>\n",
       "      <td>0</td>\n",
       "      <td>-6.2</td>\n",
       "      <td>geumneung-dong</td>\n",
       "      <td>1</td>\n",
       "      <td>0</td>\n",
       "      <td>0</td>\n",
       "      <td>1</td>\n",
       "      <td>0</td>\n",
       "      <td>0</td>\n",
       "      <td>2016065700</td>\n",
       "      <td>PAJU-S16-102572</td>\n",
       "      <td>13.0</td>\n",
       "    </tr>\n",
       "  </tbody>\n",
       "</table>\n",
       "</div>"
      ],
      "text/plain": [
       "                 ID  break       date  today_avr  today_low  yesterday_avr  \\\n",
       "10451  414801000873      1 2016-02-22        0.0       -4.9            0.0   \n",
       "10452  414800924512      0 2016-09-08       21.2       18.8           22.6   \n",
       "10453  414800922974      0 2016-11-08        3.1       -2.3            0.8   \n",
       "10454  414800923423      0 2016-10-08       16.1        9.7           10.2   \n",
       "10455  414801604013      1 2017-04-11       14.0        9.5            9.5   \n",
       "\n",
       "       yesterday_low  continue_days_avr  continue_days_low  gap_degrees  \\\n",
       "10451           -6.0                  0                  9         -1.1   \n",
       "10452           18.7                  0                  0         -0.1   \n",
       "10453           -5.0                  0                  1         -2.7   \n",
       "10454            4.2                  0                  0         -5.5   \n",
       "10455            3.3                  0                  0         -6.2   \n",
       "\n",
       "              district  status_open  stauts_close  status_stop  category_home  \\\n",
       "10451      yadang-dong            0             1            0              0   \n",
       "10452         jori-eup            0             1            0              1   \n",
       "10453      yadang-dong            0             1            0              1   \n",
       "10454  sangjiseok-dong            0             1            0              1   \n",
       "10455   geumneung-dong            1             0            0              1   \n",
       "\n",
       "       category_ordinary  category_sauna    meter_id     meter_mfg_no    mm  \n",
       "10451                  1               0  2015609917     K-S15-013459  13.0  \n",
       "10452                  0               0  2016066284  PAJU-S16-103156  13.0  \n",
       "10453                  0               0  2016063164  PAJU-S16-100035  13.0  \n",
       "10454                  0               0  2016064690  PAJU-S16-101562  13.0  \n",
       "10455                  0               0  2016065700  PAJU-S16-102572  13.0  "
      ]
     },
     "execution_count": 4,
     "metadata": {},
     "output_type": "execute_result"
    }
   ],
   "source": [
    "X_test.tail()"
   ]
  },
  {
   "cell_type": "markdown",
   "metadata": {},
   "source": [
    "### 1. 4 Explore Data"
   ]
  },
  {
   "cell_type": "code",
   "execution_count": 5,
   "metadata": {
    "scrolled": false
   },
   "outputs": [
    {
     "data": {
      "text/html": [
       "<div>\n",
       "<style>\n",
       "    .dataframe thead tr:only-child th {\n",
       "        text-align: right;\n",
       "    }\n",
       "\n",
       "    .dataframe thead th {\n",
       "        text-align: left;\n",
       "    }\n",
       "\n",
       "    .dataframe tbody tr th {\n",
       "        vertical-align: top;\n",
       "    }\n",
       "</style>\n",
       "<table border=\"1\" class=\"dataframe\">\n",
       "  <thead>\n",
       "    <tr style=\"text-align: right;\">\n",
       "      <th></th>\n",
       "      <th>ID</th>\n",
       "      <th>break</th>\n",
       "      <th>date</th>\n",
       "      <th>today_avr</th>\n",
       "      <th>today_low</th>\n",
       "      <th>yesterday_avr</th>\n",
       "      <th>yesterday_low</th>\n",
       "      <th>continue_days_avr</th>\n",
       "      <th>continue_days_low</th>\n",
       "      <th>gap_degrees</th>\n",
       "      <th>district</th>\n",
       "      <th>status_open</th>\n",
       "      <th>stauts_close</th>\n",
       "      <th>status_stop</th>\n",
       "      <th>category_home</th>\n",
       "      <th>category_ordinary</th>\n",
       "      <th>category_sauna</th>\n",
       "      <th>meter_id</th>\n",
       "      <th>meter_mfg_no</th>\n",
       "      <th>mm</th>\n",
       "    </tr>\n",
       "  </thead>\n",
       "  <tbody>\n",
       "    <tr>\n",
       "      <th>0</th>\n",
       "      <td>414801600489</td>\n",
       "      <td>0</td>\n",
       "      <td>2015-10-07</td>\n",
       "      <td>17.0</td>\n",
       "      <td>13.5</td>\n",
       "      <td>18.1</td>\n",
       "      <td>11.2</td>\n",
       "      <td>0</td>\n",
       "      <td>0</td>\n",
       "      <td>-2.3</td>\n",
       "      <td>mokdong-dong</td>\n",
       "      <td>1</td>\n",
       "      <td>0</td>\n",
       "      <td>0</td>\n",
       "      <td>1</td>\n",
       "      <td>0</td>\n",
       "      <td>0</td>\n",
       "      <td>2.016005e+09</td>\n",
       "      <td>15-000949</td>\n",
       "      <td>25</td>\n",
       "    </tr>\n",
       "    <tr>\n",
       "      <th>1</th>\n",
       "      <td>414801600457</td>\n",
       "      <td>0</td>\n",
       "      <td>2015-12-07</td>\n",
       "      <td>-0.2</td>\n",
       "      <td>-6.7</td>\n",
       "      <td>0.0</td>\n",
       "      <td>-5.4</td>\n",
       "      <td>2</td>\n",
       "      <td>5</td>\n",
       "      <td>1.3</td>\n",
       "      <td>mokdong-dong</td>\n",
       "      <td>1</td>\n",
       "      <td>0</td>\n",
       "      <td>0</td>\n",
       "      <td>1</td>\n",
       "      <td>0</td>\n",
       "      <td>0</td>\n",
       "      <td>2.016005e+09</td>\n",
       "      <td>15-003073</td>\n",
       "      <td>25</td>\n",
       "    </tr>\n",
       "    <tr>\n",
       "      <th>2</th>\n",
       "      <td>414801600456</td>\n",
       "      <td>0</td>\n",
       "      <td>2015-12-07</td>\n",
       "      <td>-0.2</td>\n",
       "      <td>-6.7</td>\n",
       "      <td>0.0</td>\n",
       "      <td>-5.4</td>\n",
       "      <td>2</td>\n",
       "      <td>5</td>\n",
       "      <td>1.3</td>\n",
       "      <td>mokdong-dong</td>\n",
       "      <td>1</td>\n",
       "      <td>0</td>\n",
       "      <td>0</td>\n",
       "      <td>0</td>\n",
       "      <td>1</td>\n",
       "      <td>0</td>\n",
       "      <td>2.016005e+09</td>\n",
       "      <td>15-004937</td>\n",
       "      <td>20</td>\n",
       "    </tr>\n",
       "    <tr>\n",
       "      <th>3</th>\n",
       "      <td>414801600455</td>\n",
       "      <td>0</td>\n",
       "      <td>2015-12-07</td>\n",
       "      <td>-0.2</td>\n",
       "      <td>-6.7</td>\n",
       "      <td>0.0</td>\n",
       "      <td>-5.4</td>\n",
       "      <td>2</td>\n",
       "      <td>5</td>\n",
       "      <td>1.3</td>\n",
       "      <td>mokdong-dong</td>\n",
       "      <td>1</td>\n",
       "      <td>0</td>\n",
       "      <td>0</td>\n",
       "      <td>1</td>\n",
       "      <td>0</td>\n",
       "      <td>0</td>\n",
       "      <td>2.016005e+09</td>\n",
       "      <td>15-003862</td>\n",
       "      <td>20</td>\n",
       "    </tr>\n",
       "    <tr>\n",
       "      <th>4</th>\n",
       "      <td>414801600452</td>\n",
       "      <td>0</td>\n",
       "      <td>2015-12-07</td>\n",
       "      <td>-0.2</td>\n",
       "      <td>-6.7</td>\n",
       "      <td>0.0</td>\n",
       "      <td>-5.4</td>\n",
       "      <td>2</td>\n",
       "      <td>5</td>\n",
       "      <td>1.3</td>\n",
       "      <td>mokdong-dong</td>\n",
       "      <td>1</td>\n",
       "      <td>0</td>\n",
       "      <td>0</td>\n",
       "      <td>1</td>\n",
       "      <td>0</td>\n",
       "      <td>0</td>\n",
       "      <td>2.016005e+09</td>\n",
       "      <td>15-002663</td>\n",
       "      <td>25</td>\n",
       "    </tr>\n",
       "  </tbody>\n",
       "</table>\n",
       "</div>"
      ],
      "text/plain": [
       "             ID  break       date  today_avr  today_low  yesterday_avr  \\\n",
       "0  414801600489      0 2015-10-07       17.0       13.5           18.1   \n",
       "1  414801600457      0 2015-12-07       -0.2       -6.7            0.0   \n",
       "2  414801600456      0 2015-12-07       -0.2       -6.7            0.0   \n",
       "3  414801600455      0 2015-12-07       -0.2       -6.7            0.0   \n",
       "4  414801600452      0 2015-12-07       -0.2       -6.7            0.0   \n",
       "\n",
       "   yesterday_low  continue_days_avr  continue_days_low  gap_degrees  \\\n",
       "0           11.2                  0                  0         -2.3   \n",
       "1           -5.4                  2                  5          1.3   \n",
       "2           -5.4                  2                  5          1.3   \n",
       "3           -5.4                  2                  5          1.3   \n",
       "4           -5.4                  2                  5          1.3   \n",
       "\n",
       "       district  status_open  stauts_close  status_stop  category_home  \\\n",
       "0  mokdong-dong            1             0            0              1   \n",
       "1  mokdong-dong            1             0            0              1   \n",
       "2  mokdong-dong            1             0            0              0   \n",
       "3  mokdong-dong            1             0            0              1   \n",
       "4  mokdong-dong            1             0            0              1   \n",
       "\n",
       "   category_ordinary  category_sauna      meter_id meter_mfg_no  mm  \n",
       "0                  0               0  2.016005e+09    15-000949  25  \n",
       "1                  0               0  2.016005e+09    15-003073  25  \n",
       "2                  1               0  2.016005e+09    15-004937  20  \n",
       "3                  0               0  2.016005e+09    15-003862  20  \n",
       "4                  0               0  2.016005e+09    15-002663  25  "
      ]
     },
     "execution_count": 5,
     "metadata": {},
     "output_type": "execute_result"
    }
   ],
   "source": [
    "X_train.head()\n"
   ]
  },
  {
   "cell_type": "code",
   "execution_count": 6,
   "metadata": {},
   "outputs": [
    {
     "data": {
      "text/plain": [
       "(44132, 20)"
      ]
     },
     "execution_count": 6,
     "metadata": {},
     "output_type": "execute_result"
    }
   ],
   "source": [
    "X_train.shape"
   ]
  },
  {
   "cell_type": "code",
   "execution_count": 7,
   "metadata": {},
   "outputs": [
    {
     "name": "stdout",
     "output_type": "stream",
     "text": [
      "<class 'pandas.core.frame.DataFrame'>\n",
      "RangeIndex: 44132 entries, 0 to 44131\n",
      "Data columns (total 20 columns):\n",
      "ID                   44132 non-null int64\n",
      "break                44132 non-null int64\n",
      "date                 44132 non-null datetime64[ns]\n",
      "today_avr            44132 non-null float64\n",
      "today_low            44132 non-null float64\n",
      "yesterday_avr        44132 non-null float64\n",
      "yesterday_low        44132 non-null float64\n",
      "continue_days_avr    44132 non-null int64\n",
      "continue_days_low    44132 non-null int64\n",
      "gap_degrees          44132 non-null float64\n",
      "district             44132 non-null object\n",
      "status_open          44132 non-null int64\n",
      "stauts_close         44132 non-null int64\n",
      "status_stop          44132 non-null int64\n",
      "category_home        44132 non-null int64\n",
      "category_ordinary    44132 non-null int64\n",
      "category_sauna       44132 non-null int64\n",
      "meter_id             43759 non-null float64\n",
      "meter_mfg_no         44100 non-null object\n",
      "mm                   44132 non-null int64\n",
      "dtypes: datetime64[ns](1), float64(6), int64(11), object(2)\n",
      "memory usage: 6.7+ MB\n"
     ]
    }
   ],
   "source": [
    "X_train.info()"
   ]
  },
  {
   "cell_type": "code",
   "execution_count": 8,
   "metadata": {
    "collapsed": true
   },
   "outputs": [],
   "source": [
    "y = paju.loc[:,'break']"
   ]
  },
  {
   "cell_type": "code",
   "execution_count": 9,
   "metadata": {},
   "outputs": [
    {
     "data": {
      "text/plain": [
       "0    0\n",
       "1    0\n",
       "2    0\n",
       "3    0\n",
       "4    0\n",
       "Name: break, dtype: int64"
      ]
     },
     "execution_count": 9,
     "metadata": {},
     "output_type": "execute_result"
    }
   ],
   "source": [
    "y.head()"
   ]
  },
  {
   "cell_type": "code",
   "execution_count": 10,
   "metadata": {
    "collapsed": true
   },
   "outputs": [],
   "source": [
    "X = X_train.copy()\n",
    "X2 = X_test.copy()"
   ]
  },
  {
   "cell_type": "code",
   "execution_count": 11,
   "metadata": {},
   "outputs": [
    {
     "data": {
      "text/html": [
       "<div>\n",
       "<style>\n",
       "    .dataframe thead tr:only-child th {\n",
       "        text-align: right;\n",
       "    }\n",
       "\n",
       "    .dataframe thead th {\n",
       "        text-align: left;\n",
       "    }\n",
       "\n",
       "    .dataframe tbody tr th {\n",
       "        vertical-align: top;\n",
       "    }\n",
       "</style>\n",
       "<table border=\"1\" class=\"dataframe\">\n",
       "  <thead>\n",
       "    <tr style=\"text-align: right;\">\n",
       "      <th></th>\n",
       "      <th>ID</th>\n",
       "      <th>break</th>\n",
       "      <th>date</th>\n",
       "      <th>today_avr</th>\n",
       "      <th>today_low</th>\n",
       "      <th>yesterday_avr</th>\n",
       "      <th>yesterday_low</th>\n",
       "      <th>continue_days_avr</th>\n",
       "      <th>continue_days_low</th>\n",
       "      <th>gap_degrees</th>\n",
       "      <th>district</th>\n",
       "      <th>status_open</th>\n",
       "      <th>stauts_close</th>\n",
       "      <th>status_stop</th>\n",
       "      <th>category_home</th>\n",
       "      <th>category_ordinary</th>\n",
       "      <th>category_sauna</th>\n",
       "      <th>meter_id</th>\n",
       "      <th>meter_mfg_no</th>\n",
       "      <th>mm</th>\n",
       "    </tr>\n",
       "  </thead>\n",
       "  <tbody>\n",
       "    <tr>\n",
       "      <th>44127</th>\n",
       "      <td>414800903706</td>\n",
       "      <td>1</td>\n",
       "      <td>2011-01-16</td>\n",
       "      <td>-16.5</td>\n",
       "      <td>-23.0</td>\n",
       "      <td>-14.1</td>\n",
       "      <td>-22.8</td>\n",
       "      <td>25</td>\n",
       "      <td>42</td>\n",
       "      <td>0.2</td>\n",
       "      <td>adong-dong</td>\n",
       "      <td>1</td>\n",
       "      <td>0</td>\n",
       "      <td>0</td>\n",
       "      <td>0</td>\n",
       "      <td>1</td>\n",
       "      <td>0</td>\n",
       "      <td>2.015130e+09</td>\n",
       "      <td>10-074836</td>\n",
       "      <td>13</td>\n",
       "    </tr>\n",
       "    <tr>\n",
       "      <th>44128</th>\n",
       "      <td>414800925002</td>\n",
       "      <td>1</td>\n",
       "      <td>2011-01-17</td>\n",
       "      <td>-14.1</td>\n",
       "      <td>-22.8</td>\n",
       "      <td>-11.6</td>\n",
       "      <td>-20.1</td>\n",
       "      <td>26</td>\n",
       "      <td>43</td>\n",
       "      <td>2.7</td>\n",
       "      <td>jori-eup</td>\n",
       "      <td>0</td>\n",
       "      <td>1</td>\n",
       "      <td>0</td>\n",
       "      <td>1</td>\n",
       "      <td>0</td>\n",
       "      <td>0</td>\n",
       "      <td>2.015133e+09</td>\n",
       "      <td>10-074063</td>\n",
       "      <td>13</td>\n",
       "    </tr>\n",
       "    <tr>\n",
       "      <th>44129</th>\n",
       "      <td>414800923123</td>\n",
       "      <td>1</td>\n",
       "      <td>2011-01-17</td>\n",
       "      <td>-14.1</td>\n",
       "      <td>-22.8</td>\n",
       "      <td>-11.6</td>\n",
       "      <td>-20.1</td>\n",
       "      <td>26</td>\n",
       "      <td>43</td>\n",
       "      <td>2.7</td>\n",
       "      <td>sangjiseok-dong</td>\n",
       "      <td>0</td>\n",
       "      <td>1</td>\n",
       "      <td>0</td>\n",
       "      <td>0</td>\n",
       "      <td>1</td>\n",
       "      <td>0</td>\n",
       "      <td>2.015125e+09</td>\n",
       "      <td>10-003783</td>\n",
       "      <td>25</td>\n",
       "    </tr>\n",
       "    <tr>\n",
       "      <th>44130</th>\n",
       "      <td>414801600362</td>\n",
       "      <td>0</td>\n",
       "      <td>2015-12-07</td>\n",
       "      <td>-0.2</td>\n",
       "      <td>-6.7</td>\n",
       "      <td>0.0</td>\n",
       "      <td>-5.4</td>\n",
       "      <td>2</td>\n",
       "      <td>5</td>\n",
       "      <td>1.3</td>\n",
       "      <td>yadang-dong</td>\n",
       "      <td>1</td>\n",
       "      <td>0</td>\n",
       "      <td>0</td>\n",
       "      <td>1</td>\n",
       "      <td>0</td>\n",
       "      <td>0</td>\n",
       "      <td>2.016012e+09</td>\n",
       "      <td>15-006514</td>\n",
       "      <td>13</td>\n",
       "    </tr>\n",
       "    <tr>\n",
       "      <th>44131</th>\n",
       "      <td>414801503432</td>\n",
       "      <td>0</td>\n",
       "      <td>2015-11-07</td>\n",
       "      <td>9.5</td>\n",
       "      <td>8.1</td>\n",
       "      <td>10.5</td>\n",
       "      <td>9.2</td>\n",
       "      <td>0</td>\n",
       "      <td>0</td>\n",
       "      <td>1.1</td>\n",
       "      <td>sangjiseok-dong</td>\n",
       "      <td>1</td>\n",
       "      <td>0</td>\n",
       "      <td>0</td>\n",
       "      <td>1</td>\n",
       "      <td>0</td>\n",
       "      <td>0</td>\n",
       "      <td>2.016003e+09</td>\n",
       "      <td>15-027748</td>\n",
       "      <td>13</td>\n",
       "    </tr>\n",
       "  </tbody>\n",
       "</table>\n",
       "</div>"
      ],
      "text/plain": [
       "                 ID  break       date  today_avr  today_low  yesterday_avr  \\\n",
       "44127  414800903706      1 2011-01-16      -16.5      -23.0          -14.1   \n",
       "44128  414800925002      1 2011-01-17      -14.1      -22.8          -11.6   \n",
       "44129  414800923123      1 2011-01-17      -14.1      -22.8          -11.6   \n",
       "44130  414801600362      0 2015-12-07       -0.2       -6.7            0.0   \n",
       "44131  414801503432      0 2015-11-07        9.5        8.1           10.5   \n",
       "\n",
       "       yesterday_low  continue_days_avr  continue_days_low  gap_degrees  \\\n",
       "44127          -22.8                 25                 42          0.2   \n",
       "44128          -20.1                 26                 43          2.7   \n",
       "44129          -20.1                 26                 43          2.7   \n",
       "44130           -5.4                  2                  5          1.3   \n",
       "44131            9.2                  0                  0          1.1   \n",
       "\n",
       "              district  status_open  stauts_close  status_stop  category_home  \\\n",
       "44127       adong-dong            1             0            0              0   \n",
       "44128         jori-eup            0             1            0              1   \n",
       "44129  sangjiseok-dong            0             1            0              0   \n",
       "44130      yadang-dong            1             0            0              1   \n",
       "44131  sangjiseok-dong            1             0            0              1   \n",
       "\n",
       "       category_ordinary  category_sauna      meter_id meter_mfg_no  mm  \n",
       "44127                  1               0  2.015130e+09    10-074836  13  \n",
       "44128                  0               0  2.015133e+09    10-074063  13  \n",
       "44129                  1               0  2.015125e+09    10-003783  25  \n",
       "44130                  0               0  2.016012e+09    15-006514  13  \n",
       "44131                  0               0  2.016003e+09    15-027748  13  "
      ]
     },
     "execution_count": 11,
     "metadata": {},
     "output_type": "execute_result"
    }
   ],
   "source": [
    "X.tail()"
   ]
  },
  {
   "cell_type": "code",
   "execution_count": 12,
   "metadata": {
    "collapsed": true,
    "scrolled": true
   },
   "outputs": [],
   "source": [
    "X = X.drop('date', axis = 1)\n",
    "\n",
    "X = X.drop('ID', axis = 1)\n",
    "X = X.drop('district', axis = 1)\n",
    "X = X.drop('meter_id', axis = 1)\n",
    "\n",
    "X = X.drop('meter_mfg_no', axis = 1)"
   ]
  },
  {
   "cell_type": "code",
   "execution_count": 13,
   "metadata": {
    "collapsed": true
   },
   "outputs": [],
   "source": [
    "X2 = X2.drop('date', axis = 1)\n",
    "\n",
    "X2 = X2.drop('ID', axis = 1)\n",
    "X2 = X2.drop('district', axis = 1)\n",
    "X2 = X2.drop('meter_id', axis = 1)\n",
    "\n",
    "X2 = X2.drop('meter_mfg_no', axis = 1)\n",
    "del X2['break']"
   ]
  },
  {
   "cell_type": "code",
   "execution_count": 14,
   "metadata": {
    "collapsed": true
   },
   "outputs": [],
   "source": [
    "del X['break']"
   ]
  },
  {
   "cell_type": "code",
   "execution_count": 15,
   "metadata": {},
   "outputs": [
    {
     "data": {
      "text/html": [
       "<div>\n",
       "<style>\n",
       "    .dataframe thead tr:only-child th {\n",
       "        text-align: right;\n",
       "    }\n",
       "\n",
       "    .dataframe thead th {\n",
       "        text-align: left;\n",
       "    }\n",
       "\n",
       "    .dataframe tbody tr th {\n",
       "        vertical-align: top;\n",
       "    }\n",
       "</style>\n",
       "<table border=\"1\" class=\"dataframe\">\n",
       "  <thead>\n",
       "    <tr style=\"text-align: right;\">\n",
       "      <th></th>\n",
       "      <th>today_avr</th>\n",
       "      <th>today_low</th>\n",
       "      <th>yesterday_avr</th>\n",
       "      <th>yesterday_low</th>\n",
       "      <th>continue_days_avr</th>\n",
       "      <th>continue_days_low</th>\n",
       "      <th>gap_degrees</th>\n",
       "      <th>status_open</th>\n",
       "      <th>stauts_close</th>\n",
       "      <th>status_stop</th>\n",
       "      <th>category_home</th>\n",
       "      <th>category_ordinary</th>\n",
       "      <th>category_sauna</th>\n",
       "      <th>mm</th>\n",
       "    </tr>\n",
       "  </thead>\n",
       "  <tbody>\n",
       "    <tr>\n",
       "      <th>44127</th>\n",
       "      <td>-16.5</td>\n",
       "      <td>-23.0</td>\n",
       "      <td>-14.1</td>\n",
       "      <td>-22.8</td>\n",
       "      <td>25</td>\n",
       "      <td>42</td>\n",
       "      <td>0.2</td>\n",
       "      <td>1</td>\n",
       "      <td>0</td>\n",
       "      <td>0</td>\n",
       "      <td>0</td>\n",
       "      <td>1</td>\n",
       "      <td>0</td>\n",
       "      <td>13</td>\n",
       "    </tr>\n",
       "    <tr>\n",
       "      <th>44128</th>\n",
       "      <td>-14.1</td>\n",
       "      <td>-22.8</td>\n",
       "      <td>-11.6</td>\n",
       "      <td>-20.1</td>\n",
       "      <td>26</td>\n",
       "      <td>43</td>\n",
       "      <td>2.7</td>\n",
       "      <td>0</td>\n",
       "      <td>1</td>\n",
       "      <td>0</td>\n",
       "      <td>1</td>\n",
       "      <td>0</td>\n",
       "      <td>0</td>\n",
       "      <td>13</td>\n",
       "    </tr>\n",
       "    <tr>\n",
       "      <th>44129</th>\n",
       "      <td>-14.1</td>\n",
       "      <td>-22.8</td>\n",
       "      <td>-11.6</td>\n",
       "      <td>-20.1</td>\n",
       "      <td>26</td>\n",
       "      <td>43</td>\n",
       "      <td>2.7</td>\n",
       "      <td>0</td>\n",
       "      <td>1</td>\n",
       "      <td>0</td>\n",
       "      <td>0</td>\n",
       "      <td>1</td>\n",
       "      <td>0</td>\n",
       "      <td>25</td>\n",
       "    </tr>\n",
       "    <tr>\n",
       "      <th>44130</th>\n",
       "      <td>-0.2</td>\n",
       "      <td>-6.7</td>\n",
       "      <td>0.0</td>\n",
       "      <td>-5.4</td>\n",
       "      <td>2</td>\n",
       "      <td>5</td>\n",
       "      <td>1.3</td>\n",
       "      <td>1</td>\n",
       "      <td>0</td>\n",
       "      <td>0</td>\n",
       "      <td>1</td>\n",
       "      <td>0</td>\n",
       "      <td>0</td>\n",
       "      <td>13</td>\n",
       "    </tr>\n",
       "    <tr>\n",
       "      <th>44131</th>\n",
       "      <td>9.5</td>\n",
       "      <td>8.1</td>\n",
       "      <td>10.5</td>\n",
       "      <td>9.2</td>\n",
       "      <td>0</td>\n",
       "      <td>0</td>\n",
       "      <td>1.1</td>\n",
       "      <td>1</td>\n",
       "      <td>0</td>\n",
       "      <td>0</td>\n",
       "      <td>1</td>\n",
       "      <td>0</td>\n",
       "      <td>0</td>\n",
       "      <td>13</td>\n",
       "    </tr>\n",
       "  </tbody>\n",
       "</table>\n",
       "</div>"
      ],
      "text/plain": [
       "       today_avr  today_low  yesterday_avr  yesterday_low  continue_days_avr  \\\n",
       "44127      -16.5      -23.0          -14.1          -22.8                 25   \n",
       "44128      -14.1      -22.8          -11.6          -20.1                 26   \n",
       "44129      -14.1      -22.8          -11.6          -20.1                 26   \n",
       "44130       -0.2       -6.7            0.0           -5.4                  2   \n",
       "44131        9.5        8.1           10.5            9.2                  0   \n",
       "\n",
       "       continue_days_low  gap_degrees  status_open  stauts_close  status_stop  \\\n",
       "44127                 42          0.2            1             0            0   \n",
       "44128                 43          2.7            0             1            0   \n",
       "44129                 43          2.7            0             1            0   \n",
       "44130                  5          1.3            1             0            0   \n",
       "44131                  0          1.1            1             0            0   \n",
       "\n",
       "       category_home  category_ordinary  category_sauna  mm  \n",
       "44127              0                  1               0  13  \n",
       "44128              1                  0               0  13  \n",
       "44129              0                  1               0  25  \n",
       "44130              1                  0               0  13  \n",
       "44131              1                  0               0  13  "
      ]
     },
     "execution_count": 15,
     "metadata": {},
     "output_type": "execute_result"
    }
   ],
   "source": [
    "X.tail()"
   ]
  },
  {
   "cell_type": "code",
   "execution_count": 16,
   "metadata": {},
   "outputs": [
    {
     "data": {
      "text/html": [
       "<div>\n",
       "<style>\n",
       "    .dataframe thead tr:only-child th {\n",
       "        text-align: right;\n",
       "    }\n",
       "\n",
       "    .dataframe thead th {\n",
       "        text-align: left;\n",
       "    }\n",
       "\n",
       "    .dataframe tbody tr th {\n",
       "        vertical-align: top;\n",
       "    }\n",
       "</style>\n",
       "<table border=\"1\" class=\"dataframe\">\n",
       "  <thead>\n",
       "    <tr style=\"text-align: right;\">\n",
       "      <th></th>\n",
       "      <th>today_avr</th>\n",
       "      <th>today_low</th>\n",
       "      <th>yesterday_avr</th>\n",
       "      <th>yesterday_low</th>\n",
       "      <th>continue_days_avr</th>\n",
       "      <th>continue_days_low</th>\n",
       "      <th>gap_degrees</th>\n",
       "      <th>status_open</th>\n",
       "      <th>stauts_close</th>\n",
       "      <th>status_stop</th>\n",
       "      <th>category_home</th>\n",
       "      <th>category_ordinary</th>\n",
       "      <th>category_sauna</th>\n",
       "      <th>mm</th>\n",
       "    </tr>\n",
       "  </thead>\n",
       "  <tbody>\n",
       "    <tr>\n",
       "      <th>10451</th>\n",
       "      <td>0.0</td>\n",
       "      <td>-4.9</td>\n",
       "      <td>0.0</td>\n",
       "      <td>-6.0</td>\n",
       "      <td>0</td>\n",
       "      <td>9</td>\n",
       "      <td>-1.1</td>\n",
       "      <td>0</td>\n",
       "      <td>1</td>\n",
       "      <td>0</td>\n",
       "      <td>0</td>\n",
       "      <td>1</td>\n",
       "      <td>0</td>\n",
       "      <td>13.0</td>\n",
       "    </tr>\n",
       "    <tr>\n",
       "      <th>10452</th>\n",
       "      <td>21.2</td>\n",
       "      <td>18.8</td>\n",
       "      <td>22.6</td>\n",
       "      <td>18.7</td>\n",
       "      <td>0</td>\n",
       "      <td>0</td>\n",
       "      <td>-0.1</td>\n",
       "      <td>0</td>\n",
       "      <td>1</td>\n",
       "      <td>0</td>\n",
       "      <td>1</td>\n",
       "      <td>0</td>\n",
       "      <td>0</td>\n",
       "      <td>13.0</td>\n",
       "    </tr>\n",
       "    <tr>\n",
       "      <th>10453</th>\n",
       "      <td>3.1</td>\n",
       "      <td>-2.3</td>\n",
       "      <td>0.8</td>\n",
       "      <td>-5.0</td>\n",
       "      <td>0</td>\n",
       "      <td>1</td>\n",
       "      <td>-2.7</td>\n",
       "      <td>0</td>\n",
       "      <td>1</td>\n",
       "      <td>0</td>\n",
       "      <td>1</td>\n",
       "      <td>0</td>\n",
       "      <td>0</td>\n",
       "      <td>13.0</td>\n",
       "    </tr>\n",
       "    <tr>\n",
       "      <th>10454</th>\n",
       "      <td>16.1</td>\n",
       "      <td>9.7</td>\n",
       "      <td>10.2</td>\n",
       "      <td>4.2</td>\n",
       "      <td>0</td>\n",
       "      <td>0</td>\n",
       "      <td>-5.5</td>\n",
       "      <td>0</td>\n",
       "      <td>1</td>\n",
       "      <td>0</td>\n",
       "      <td>1</td>\n",
       "      <td>0</td>\n",
       "      <td>0</td>\n",
       "      <td>13.0</td>\n",
       "    </tr>\n",
       "    <tr>\n",
       "      <th>10455</th>\n",
       "      <td>14.0</td>\n",
       "      <td>9.5</td>\n",
       "      <td>9.5</td>\n",
       "      <td>3.3</td>\n",
       "      <td>0</td>\n",
       "      <td>0</td>\n",
       "      <td>-6.2</td>\n",
       "      <td>1</td>\n",
       "      <td>0</td>\n",
       "      <td>0</td>\n",
       "      <td>1</td>\n",
       "      <td>0</td>\n",
       "      <td>0</td>\n",
       "      <td>13.0</td>\n",
       "    </tr>\n",
       "  </tbody>\n",
       "</table>\n",
       "</div>"
      ],
      "text/plain": [
       "       today_avr  today_low  yesterday_avr  yesterday_low  continue_days_avr  \\\n",
       "10451        0.0       -4.9            0.0           -6.0                  0   \n",
       "10452       21.2       18.8           22.6           18.7                  0   \n",
       "10453        3.1       -2.3            0.8           -5.0                  0   \n",
       "10454       16.1        9.7           10.2            4.2                  0   \n",
       "10455       14.0        9.5            9.5            3.3                  0   \n",
       "\n",
       "       continue_days_low  gap_degrees  status_open  stauts_close  status_stop  \\\n",
       "10451                  9         -1.1            0             1            0   \n",
       "10452                  0         -0.1            0             1            0   \n",
       "10453                  1         -2.7            0             1            0   \n",
       "10454                  0         -5.5            0             1            0   \n",
       "10455                  0         -6.2            1             0            0   \n",
       "\n",
       "       category_home  category_ordinary  category_sauna    mm  \n",
       "10451              0                  1               0  13.0  \n",
       "10452              1                  0               0  13.0  \n",
       "10453              1                  0               0  13.0  \n",
       "10454              1                  0               0  13.0  \n",
       "10455              1                  0               0  13.0  "
      ]
     },
     "execution_count": 16,
     "metadata": {},
     "output_type": "execute_result"
    }
   ],
   "source": [
    "X2.tail()"
   ]
  },
  {
   "cell_type": "code",
   "execution_count": 17,
   "metadata": {},
   "outputs": [
    {
     "data": {
      "text/plain": [
       "today_avr            0\n",
       "today_low            0\n",
       "yesterday_avr        0\n",
       "yesterday_low        0\n",
       "continue_days_avr    0\n",
       "continue_days_low    0\n",
       "gap_degrees          0\n",
       "status_open          0\n",
       "stauts_close         0\n",
       "status_stop          0\n",
       "category_home        0\n",
       "category_ordinary    0\n",
       "category_sauna       0\n",
       "mm                   0\n",
       "dtype: int64"
      ]
     },
     "execution_count": 17,
     "metadata": {},
     "output_type": "execute_result"
    }
   ],
   "source": [
    "X.isnull().sum()"
   ]
  },
  {
   "cell_type": "code",
   "execution_count": 18,
   "metadata": {},
   "outputs": [
    {
     "data": {
      "text/plain": [
       "today_avr            0\n",
       "today_low            0\n",
       "yesterday_avr        0\n",
       "yesterday_low        0\n",
       "continue_days_avr    0\n",
       "continue_days_low    0\n",
       "gap_degrees          0\n",
       "status_open          0\n",
       "stauts_close         0\n",
       "status_stop          0\n",
       "category_home        0\n",
       "category_ordinary    0\n",
       "category_sauna       0\n",
       "mm                   2\n",
       "dtype: int64"
      ]
     },
     "execution_count": 18,
     "metadata": {},
     "output_type": "execute_result"
    }
   ],
   "source": [
    "X2.isnull().sum()"
   ]
  },
  {
   "cell_type": "code",
   "execution_count": 19,
   "metadata": {},
   "outputs": [
    {
     "data": {
      "text/plain": [
       "today_avr            0\n",
       "today_low            0\n",
       "yesterday_avr        0\n",
       "yesterday_low        0\n",
       "continue_days_avr    0\n",
       "continue_days_low    0\n",
       "gap_degrees          0\n",
       "status_open          0\n",
       "stauts_close         0\n",
       "status_stop          0\n",
       "category_home        0\n",
       "category_ordinary    0\n",
       "category_sauna       0\n",
       "mm                   0\n",
       "dtype: int64"
      ]
     },
     "execution_count": 19,
     "metadata": {},
     "output_type": "execute_result"
    }
   ],
   "source": [
    "X2['mm'].fillna((X2['mm'].mean()), inplace = True)\n",
    "X2.isnull().sum()"
   ]
  },
  {
   "cell_type": "code",
   "execution_count": 20,
   "metadata": {},
   "outputs": [
    {
     "data": {
      "text/plain": [
       "today_avr            0\n",
       "today_low            0\n",
       "yesterday_avr        0\n",
       "yesterday_low        0\n",
       "continue_days_avr    0\n",
       "continue_days_low    0\n",
       "gap_degrees          0\n",
       "status_open          0\n",
       "stauts_close         0\n",
       "status_stop          0\n",
       "category_home        0\n",
       "category_ordinary    0\n",
       "category_sauna       0\n",
       "mm                   0\n",
       "dtype: int64"
      ]
     },
     "execution_count": 20,
     "metadata": {},
     "output_type": "execute_result"
    }
   ],
   "source": [
    "X['mm'].fillna((X['mm'].mean()), inplace = True)\n",
    "X.isnull().sum()"
   ]
  },
  {
   "cell_type": "code",
   "execution_count": 21,
   "metadata": {
    "scrolled": true
   },
   "outputs": [
    {
     "data": {
      "text/html": [
       "<div>\n",
       "<style>\n",
       "    .dataframe thead tr:only-child th {\n",
       "        text-align: right;\n",
       "    }\n",
       "\n",
       "    .dataframe thead th {\n",
       "        text-align: left;\n",
       "    }\n",
       "\n",
       "    .dataframe tbody tr th {\n",
       "        vertical-align: top;\n",
       "    }\n",
       "</style>\n",
       "<table border=\"1\" class=\"dataframe\">\n",
       "  <thead>\n",
       "    <tr style=\"text-align: right;\">\n",
       "      <th></th>\n",
       "      <th>today_avr</th>\n",
       "      <th>today_low</th>\n",
       "      <th>yesterday_avr</th>\n",
       "      <th>yesterday_low</th>\n",
       "      <th>continue_days_avr</th>\n",
       "      <th>continue_days_low</th>\n",
       "      <th>gap_degrees</th>\n",
       "      <th>status_open</th>\n",
       "      <th>stauts_close</th>\n",
       "      <th>status_stop</th>\n",
       "      <th>category_home</th>\n",
       "      <th>category_ordinary</th>\n",
       "      <th>category_sauna</th>\n",
       "      <th>mm</th>\n",
       "    </tr>\n",
       "  </thead>\n",
       "  <tbody>\n",
       "    <tr>\n",
       "      <th>0</th>\n",
       "      <td>17.0</td>\n",
       "      <td>13.5</td>\n",
       "      <td>18.1</td>\n",
       "      <td>11.2</td>\n",
       "      <td>0</td>\n",
       "      <td>0</td>\n",
       "      <td>-2.3</td>\n",
       "      <td>1</td>\n",
       "      <td>0</td>\n",
       "      <td>0</td>\n",
       "      <td>1</td>\n",
       "      <td>0</td>\n",
       "      <td>0</td>\n",
       "      <td>25</td>\n",
       "    </tr>\n",
       "    <tr>\n",
       "      <th>1</th>\n",
       "      <td>-0.2</td>\n",
       "      <td>-6.7</td>\n",
       "      <td>0.0</td>\n",
       "      <td>-5.4</td>\n",
       "      <td>2</td>\n",
       "      <td>5</td>\n",
       "      <td>1.3</td>\n",
       "      <td>1</td>\n",
       "      <td>0</td>\n",
       "      <td>0</td>\n",
       "      <td>1</td>\n",
       "      <td>0</td>\n",
       "      <td>0</td>\n",
       "      <td>25</td>\n",
       "    </tr>\n",
       "    <tr>\n",
       "      <th>2</th>\n",
       "      <td>-0.2</td>\n",
       "      <td>-6.7</td>\n",
       "      <td>0.0</td>\n",
       "      <td>-5.4</td>\n",
       "      <td>2</td>\n",
       "      <td>5</td>\n",
       "      <td>1.3</td>\n",
       "      <td>1</td>\n",
       "      <td>0</td>\n",
       "      <td>0</td>\n",
       "      <td>0</td>\n",
       "      <td>1</td>\n",
       "      <td>0</td>\n",
       "      <td>20</td>\n",
       "    </tr>\n",
       "    <tr>\n",
       "      <th>3</th>\n",
       "      <td>-0.2</td>\n",
       "      <td>-6.7</td>\n",
       "      <td>0.0</td>\n",
       "      <td>-5.4</td>\n",
       "      <td>2</td>\n",
       "      <td>5</td>\n",
       "      <td>1.3</td>\n",
       "      <td>1</td>\n",
       "      <td>0</td>\n",
       "      <td>0</td>\n",
       "      <td>1</td>\n",
       "      <td>0</td>\n",
       "      <td>0</td>\n",
       "      <td>20</td>\n",
       "    </tr>\n",
       "    <tr>\n",
       "      <th>4</th>\n",
       "      <td>-0.2</td>\n",
       "      <td>-6.7</td>\n",
       "      <td>0.0</td>\n",
       "      <td>-5.4</td>\n",
       "      <td>2</td>\n",
       "      <td>5</td>\n",
       "      <td>1.3</td>\n",
       "      <td>1</td>\n",
       "      <td>0</td>\n",
       "      <td>0</td>\n",
       "      <td>1</td>\n",
       "      <td>0</td>\n",
       "      <td>0</td>\n",
       "      <td>25</td>\n",
       "    </tr>\n",
       "  </tbody>\n",
       "</table>\n",
       "</div>"
      ],
      "text/plain": [
       "   today_avr  today_low  yesterday_avr  yesterday_low  continue_days_avr  \\\n",
       "0       17.0       13.5           18.1           11.2                  0   \n",
       "1       -0.2       -6.7            0.0           -5.4                  2   \n",
       "2       -0.2       -6.7            0.0           -5.4                  2   \n",
       "3       -0.2       -6.7            0.0           -5.4                  2   \n",
       "4       -0.2       -6.7            0.0           -5.4                  2   \n",
       "\n",
       "   continue_days_low  gap_degrees  status_open  stauts_close  status_stop  \\\n",
       "0                  0         -2.3            1             0            0   \n",
       "1                  5          1.3            1             0            0   \n",
       "2                  5          1.3            1             0            0   \n",
       "3                  5          1.3            1             0            0   \n",
       "4                  5          1.3            1             0            0   \n",
       "\n",
       "   category_home  category_ordinary  category_sauna  mm  \n",
       "0              1                  0               0  25  \n",
       "1              1                  0               0  25  \n",
       "2              0                  1               0  20  \n",
       "3              1                  0               0  20  \n",
       "4              1                  0               0  25  "
      ]
     },
     "execution_count": 21,
     "metadata": {},
     "output_type": "execute_result"
    }
   ],
   "source": [
    "X.head()"
   ]
  },
  {
   "cell_type": "code",
   "execution_count": 22,
   "metadata": {},
   "outputs": [
    {
     "name": "stdout",
     "output_type": "stream",
     "text": [
      "<class 'pandas.core.frame.DataFrame'>\n",
      "RangeIndex: 44132 entries, 0 to 44131\n",
      "Data columns (total 14 columns):\n",
      "today_avr            44132 non-null float64\n",
      "today_low            44132 non-null float64\n",
      "yesterday_avr        44132 non-null float64\n",
      "yesterday_low        44132 non-null float64\n",
      "continue_days_avr    44132 non-null int64\n",
      "continue_days_low    44132 non-null int64\n",
      "gap_degrees          44132 non-null float64\n",
      "status_open          44132 non-null int64\n",
      "stauts_close         44132 non-null int64\n",
      "status_stop          44132 non-null int64\n",
      "category_home        44132 non-null int64\n",
      "category_ordinary    44132 non-null int64\n",
      "category_sauna       44132 non-null int64\n",
      "mm                   44132 non-null int64\n",
      "dtypes: float64(5), int64(9)\n",
      "memory usage: 4.7 MB\n"
     ]
    }
   ],
   "source": [
    "X.info()\n"
   ]
  },
  {
   "cell_type": "code",
   "execution_count": 23,
   "metadata": {
    "collapsed": true
   },
   "outputs": [],
   "source": [
    "from sklearn.ensemble import RandomForestClassifier"
   ]
  },
  {
   "cell_type": "code",
   "execution_count": 24,
   "metadata": {
    "collapsed": true
   },
   "outputs": [],
   "source": [
    "rf = RandomForestClassifier(n_estimators=10)"
   ]
  },
  {
   "cell_type": "code",
   "execution_count": 25,
   "metadata": {
    "collapsed": true
   },
   "outputs": [],
   "source": [
    "from sklearn.model_selection import train_test_split"
   ]
  },
  {
   "cell_type": "code",
   "execution_count": 26,
   "metadata": {
    "collapsed": true
   },
   "outputs": [],
   "source": [
    "#x_train, x_test, y_train, y_test = train_test_split(X, x_train['break'], random_state = 1)"
   ]
  },
  {
   "cell_type": "code",
   "execution_count": null,
   "metadata": {
    "collapsed": true
   },
   "outputs": [],
   "source": []
  },
  {
   "cell_type": "code",
   "execution_count": 27,
   "metadata": {
    "collapsed": true
   },
   "outputs": [],
   "source": [
    "x_train = X.copy()\n",
    "x_test = X2.copy()\n",
    "y_train = X_train['break']\n",
    "y_test=X_test['break']"
   ]
  },
  {
   "cell_type": "code",
   "execution_count": 28,
   "metadata": {
    "collapsed": true
   },
   "outputs": [],
   "source": [
    "#x_train, x_test, y_train, y_test = train_test_split(X, y, random_state = 1)"
   ]
  },
  {
   "cell_type": "code",
   "execution_count": 29,
   "metadata": {},
   "outputs": [
    {
     "data": {
      "text/plain": [
       "(44132, 14)"
      ]
     },
     "execution_count": 29,
     "metadata": {},
     "output_type": "execute_result"
    }
   ],
   "source": [
    "x_train.shape"
   ]
  },
  {
   "cell_type": "code",
   "execution_count": 30,
   "metadata": {},
   "outputs": [
    {
     "data": {
      "text/plain": [
       "(44132,)"
      ]
     },
     "execution_count": 30,
     "metadata": {},
     "output_type": "execute_result"
    }
   ],
   "source": [
    "y_train.shape"
   ]
  },
  {
   "cell_type": "code",
   "execution_count": 31,
   "metadata": {},
   "outputs": [
    {
     "name": "stderr",
     "output_type": "stream",
     "text": [
      "/Library/Frameworks/Python.framework/Versions/3.6/lib/python3.6/site-packages/sklearn/utils/deprecation.py:70: DeprecationWarning: Function transform is deprecated; Support to use estimators as feature selectors will be removed in version 0.19. Use SelectFromModel instead.\n",
      "  warnings.warn(msg, category=DeprecationWarning)\n"
     ]
    }
   ],
   "source": [
    "forest1 = rf.fit_transform(x_train, y_train)"
   ]
  },
  {
   "cell_type": "code",
   "execution_count": 32,
   "metadata": {
    "collapsed": true
   },
   "outputs": [],
   "source": [
    "forest = rf.fit(x_train, y_train)"
   ]
  },
  {
   "cell_type": "code",
   "execution_count": 33,
   "metadata": {
    "collapsed": true,
    "scrolled": true
   },
   "outputs": [],
   "source": [
    "importance = rf.feature_importances_"
   ]
  },
  {
   "cell_type": "code",
   "execution_count": 34,
   "metadata": {},
   "outputs": [
    {
     "data": {
      "text/plain": [
       "array([  1.66569253e-01,   1.94556914e-01,   1.41670225e-01,\n",
       "         1.49268388e-01,   9.77880035e-02,   1.14461627e-01,\n",
       "         1.18507797e-01,   6.65834153e-04,   8.43312836e-04,\n",
       "         5.62168588e-04,   7.91476195e-03,   2.85732477e-03,\n",
       "         5.60841461e-05,   4.27830658e-03])"
      ]
     },
     "execution_count": 34,
     "metadata": {},
     "output_type": "execute_result"
    }
   ],
   "source": [
    "importance"
   ]
  },
  {
   "cell_type": "code",
   "execution_count": 75,
   "metadata": {
    "collapsed": true
   },
   "outputs": [],
   "source": [
    "def Show_Feature_Importances(f_importances):\n",
    "    f_importances = rf.feature_importances_\n",
    "    indices = f_importances.argsort()[::-1]\n",
    "    f_importances_sorted = []\n",
    "    for idx in indices:\n",
    "        f_importances_sorted.append(f_importances[idx])\n",
    "        \n",
    "    pd.Series(f_importances_sorted, index = X.columns).plot(kind='bar', color='b')"
   ]
  },
  {
   "cell_type": "code",
   "execution_count": 76,
   "metadata": {
    "scrolled": true
   },
   "outputs": [
    {
     "data": {
      "image/png": "[encoded data removed]",
      "text/plain": [
       "<matplotlib.figure.Figure at 0x10d258a90>"
      ]
     },
     "metadata": {},
     "output_type": "display_data"
    }
   ],
   "source": [
    "Show_Feature_Importances(rf.feature_importances_)"
   ]
  },
  {
   "cell_type": "code",
   "execution_count": 37,
   "metadata": {},
   "outputs": [
    {
     "data": {
      "text/html": [
       "<div>\n",
       "<style>\n",
       "    .dataframe thead tr:only-child th {\n",
       "        text-align: right;\n",
       "    }\n",
       "\n",
       "    .dataframe thead th {\n",
       "        text-align: left;\n",
       "    }\n",
       "\n",
       "    .dataframe tbody tr th {\n",
       "        vertical-align: top;\n",
       "    }\n",
       "</style>\n",
       "<table border=\"1\" class=\"dataframe\">\n",
       "  <thead>\n",
       "    <tr style=\"text-align: right;\">\n",
       "      <th></th>\n",
       "      <th>today_avr</th>\n",
       "      <th>today_low</th>\n",
       "      <th>yesterday_avr</th>\n",
       "      <th>yesterday_low</th>\n",
       "      <th>continue_days_avr</th>\n",
       "      <th>continue_days_low</th>\n",
       "      <th>gap_degrees</th>\n",
       "      <th>status_open</th>\n",
       "      <th>stauts_close</th>\n",
       "      <th>status_stop</th>\n",
       "      <th>category_home</th>\n",
       "      <th>category_ordinary</th>\n",
       "      <th>category_sauna</th>\n",
       "      <th>mm</th>\n",
       "    </tr>\n",
       "  </thead>\n",
       "  <tbody>\n",
       "    <tr>\n",
       "      <th>10451</th>\n",
       "      <td>0.0</td>\n",
       "      <td>-4.9</td>\n",
       "      <td>0.0</td>\n",
       "      <td>-6.0</td>\n",
       "      <td>0</td>\n",
       "      <td>9</td>\n",
       "      <td>-1.1</td>\n",
       "      <td>0</td>\n",
       "      <td>1</td>\n",
       "      <td>0</td>\n",
       "      <td>0</td>\n",
       "      <td>1</td>\n",
       "      <td>0</td>\n",
       "      <td>13.0</td>\n",
       "    </tr>\n",
       "    <tr>\n",
       "      <th>10452</th>\n",
       "      <td>21.2</td>\n",
       "      <td>18.8</td>\n",
       "      <td>22.6</td>\n",
       "      <td>18.7</td>\n",
       "      <td>0</td>\n",
       "      <td>0</td>\n",
       "      <td>-0.1</td>\n",
       "      <td>0</td>\n",
       "      <td>1</td>\n",
       "      <td>0</td>\n",
       "      <td>1</td>\n",
       "      <td>0</td>\n",
       "      <td>0</td>\n",
       "      <td>13.0</td>\n",
       "    </tr>\n",
       "    <tr>\n",
       "      <th>10453</th>\n",
       "      <td>3.1</td>\n",
       "      <td>-2.3</td>\n",
       "      <td>0.8</td>\n",
       "      <td>-5.0</td>\n",
       "      <td>0</td>\n",
       "      <td>1</td>\n",
       "      <td>-2.7</td>\n",
       "      <td>0</td>\n",
       "      <td>1</td>\n",
       "      <td>0</td>\n",
       "      <td>1</td>\n",
       "      <td>0</td>\n",
       "      <td>0</td>\n",
       "      <td>13.0</td>\n",
       "    </tr>\n",
       "    <tr>\n",
       "      <th>10454</th>\n",
       "      <td>16.1</td>\n",
       "      <td>9.7</td>\n",
       "      <td>10.2</td>\n",
       "      <td>4.2</td>\n",
       "      <td>0</td>\n",
       "      <td>0</td>\n",
       "      <td>-5.5</td>\n",
       "      <td>0</td>\n",
       "      <td>1</td>\n",
       "      <td>0</td>\n",
       "      <td>1</td>\n",
       "      <td>0</td>\n",
       "      <td>0</td>\n",
       "      <td>13.0</td>\n",
       "    </tr>\n",
       "    <tr>\n",
       "      <th>10455</th>\n",
       "      <td>14.0</td>\n",
       "      <td>9.5</td>\n",
       "      <td>9.5</td>\n",
       "      <td>3.3</td>\n",
       "      <td>0</td>\n",
       "      <td>0</td>\n",
       "      <td>-6.2</td>\n",
       "      <td>1</td>\n",
       "      <td>0</td>\n",
       "      <td>0</td>\n",
       "      <td>1</td>\n",
       "      <td>0</td>\n",
       "      <td>0</td>\n",
       "      <td>13.0</td>\n",
       "    </tr>\n",
       "  </tbody>\n",
       "</table>\n",
       "</div>"
      ],
      "text/plain": [
       "       today_avr  today_low  yesterday_avr  yesterday_low  continue_days_avr  \\\n",
       "10451        0.0       -4.9            0.0           -6.0                  0   \n",
       "10452       21.2       18.8           22.6           18.7                  0   \n",
       "10453        3.1       -2.3            0.8           -5.0                  0   \n",
       "10454       16.1        9.7           10.2            4.2                  0   \n",
       "10455       14.0        9.5            9.5            3.3                  0   \n",
       "\n",
       "       continue_days_low  gap_degrees  status_open  stauts_close  status_stop  \\\n",
       "10451                  9         -1.1            0             1            0   \n",
       "10452                  0         -0.1            0             1            0   \n",
       "10453                  1         -2.7            0             1            0   \n",
       "10454                  0         -5.5            0             1            0   \n",
       "10455                  0         -6.2            1             0            0   \n",
       "\n",
       "       category_home  category_ordinary  category_sauna    mm  \n",
       "10451              0                  1               0  13.0  \n",
       "10452              1                  0               0  13.0  \n",
       "10453              1                  0               0  13.0  \n",
       "10454              1                  0               0  13.0  \n",
       "10455              1                  0               0  13.0  "
      ]
     },
     "execution_count": 37,
     "metadata": {},
     "output_type": "execute_result"
    }
   ],
   "source": [
    "x_test.tail()"
   ]
  },
  {
   "cell_type": "code",
   "execution_count": 38,
   "metadata": {
    "collapsed": true
   },
   "outputs": [],
   "source": [
    "y_pred = rf.predict(x_test)"
   ]
  },
  {
   "cell_type": "code",
   "execution_count": 39,
   "metadata": {
    "scrolled": true
   },
   "outputs": [
    {
     "data": {
      "text/plain": [
       "(10456,)"
      ]
     },
     "execution_count": 39,
     "metadata": {},
     "output_type": "execute_result"
    }
   ],
   "source": [
    "y_test.shape"
   ]
  },
  {
   "cell_type": "code",
   "execution_count": 40,
   "metadata": {},
   "outputs": [
    {
     "data": {
      "text/plain": [
       "(10456,)"
      ]
     },
     "execution_count": 40,
     "metadata": {},
     "output_type": "execute_result"
    }
   ],
   "source": [
    "y_pred.shape\n"
   ]
  },
  {
   "cell_type": "code",
   "execution_count": 41,
   "metadata": {
    "collapsed": true
   },
   "outputs": [],
   "source": [
    "from sklearn.metrics import accuracy_score"
   ]
  },
  {
   "cell_type": "code",
   "execution_count": 42,
   "metadata": {},
   "outputs": [
    {
     "data": {
      "text/plain": [
       "0.11840091813312931"
      ]
     },
     "execution_count": 42,
     "metadata": {},
     "output_type": "execute_result"
    }
   ],
   "source": [
    "accuracy_score(y_test, y_pred)"
   ]
  },
  {
   "cell_type": "code",
   "execution_count": 43,
   "metadata": {
    "collapsed": true
   },
   "outputs": [],
   "source": [
    "from sklearn.metrics import f1_score"
   ]
  },
  {
   "cell_type": "code",
   "execution_count": 44,
   "metadata": {},
   "outputs": [
    {
     "data": {
      "text/plain": [
       "0.13624437781109447"
      ]
     },
     "execution_count": 44,
     "metadata": {},
     "output_type": "execute_result"
    }
   ],
   "source": [
    "f1_score(y_test, y_pred)"
   ]
  },
  {
   "cell_type": "code",
   "execution_count": null,
   "metadata": {
    "collapsed": true
   },
   "outputs": [],
   "source": []
  },
  {
   "cell_type": "markdown",
   "metadata": {},
   "source": [
    "# 로지스틱 회귀모델"
   ]
  },
  {
   "cell_type": "code",
   "execution_count": 45,
   "metadata": {},
   "outputs": [
    {
     "data": {
      "text/plain": [
       "LogisticRegression(C=1000.0, class_weight=None, dual=False,\n",
       "          fit_intercept=True, intercept_scaling=1, max_iter=100,\n",
       "          multi_class='ovr', n_jobs=1, penalty='l2', random_state=0,\n",
       "          solver='liblinear', tol=0.0001, verbose=0, warm_start=False)"
      ]
     },
     "execution_count": 45,
     "metadata": {},
     "output_type": "execute_result"
    }
   ],
   "source": [
    "from sklearn.linear_model import LogisticRegression\n",
    "lr = LogisticRegression(C=1000.0, random_state=0)\n",
    "lr.fit(x_train, y_train)\n"
   ]
  },
  {
   "cell_type": "code",
   "execution_count": 46,
   "metadata": {
    "collapsed": true,
    "scrolled": true
   },
   "outputs": [],
   "source": [
    "rr = lr.predict_proba(x_test)"
   ]
  },
  {
   "cell_type": "code",
   "execution_count": 47,
   "metadata": {},
   "outputs": [
    {
     "data": {
      "text/plain": [
       "array([[ 0.93155809,  0.06844191],\n",
       "       [ 0.96762905,  0.03237095],\n",
       "       [ 0.96762905,  0.03237095],\n",
       "       ..., \n",
       "       [ 0.92079503,  0.07920497],\n",
       "       [ 0.97896056,  0.02103944],\n",
       "       [ 0.97685788,  0.02314212]])"
      ]
     },
     "execution_count": 47,
     "metadata": {},
     "output_type": "execute_result"
    }
   ],
   "source": [
    "rr"
   ]
  },
  {
   "cell_type": "code",
   "execution_count": 48,
   "metadata": {
    "collapsed": true
   },
   "outputs": [],
   "source": [
    "import matplotlib.pyplot as plt"
   ]
  },
  {
   "cell_type": "code",
   "execution_count": 49,
   "metadata": {
    "collapsed": true
   },
   "outputs": [],
   "source": [
    "RR = pd.DataFrame(rr)\n",
    "RR.columns = ['not break', 'break']"
   ]
  },
  {
   "cell_type": "code",
   "execution_count": 50,
   "metadata": {
    "collapsed": true
   },
   "outputs": [],
   "source": [
    "RR_series = RR['break']"
   ]
  },
  {
   "cell_type": "code",
   "execution_count": 51,
   "metadata": {
    "collapsed": true
   },
   "outputs": [],
   "source": [
    "y_pred = lr.predict(x_test)"
   ]
  },
  {
   "cell_type": "code",
   "execution_count": 52,
   "metadata": {
    "scrolled": false
   },
   "outputs": [
    {
     "data": {
      "text/plain": [
       "0.9313312930374904"
      ]
     },
     "execution_count": 52,
     "metadata": {},
     "output_type": "execute_result"
    }
   ],
   "source": [
    "accuracy_score(y_test, y_pred)"
   ]
  },
  {
   "cell_type": "code",
   "execution_count": 53,
   "metadata": {},
   "outputs": [
    {
     "data": {
      "text/plain": [
       "0.10918114143920596"
      ]
     },
     "execution_count": 53,
     "metadata": {},
     "output_type": "execute_result"
    }
   ],
   "source": [
    "f1_score(y_test, y_pred)"
   ]
  },
  {
   "cell_type": "markdown",
   "metadata": {
    "collapsed": true
   },
   "source": [
    "<br><br><br><br>"
   ]
  },
  {
   "cell_type": "code",
   "execution_count": 54,
   "metadata": {
    "collapsed": true
   },
   "outputs": [],
   "source": [
    "from sklearn.model_selection import GridSearchCV\n",
    "from sklearn.ensemble import RandomForestClassifier\n",
    "from sklearn.neighbors import KNeighborsClassifier\n",
    "from sklearn.svm import SVC\n",
    "\n",
    "from sklearn.metrics import classification_report"
   ]
  },
  {
   "cell_type": "code",
   "execution_count": 55,
   "metadata": {
    "collapsed": true
   },
   "outputs": [],
   "source": [
    "def inv_outcometype_mapping(x):\n",
    "    if x == 0:\n",
    "        return 'not Break'\n",
    "    elif x == 1:\n",
    "        return 'Break'\n",
    "    \n",
    "\n",
    "def Best_Parameters(model, hyperparameter_space):\n",
    "    model = GridSearchCV(estimator = model, \n",
    "                         param_grid = hyperparameter_space, \n",
    "                         cv=10)\n",
    "    model.fit(x_train, y_train)\n",
    "    \n",
    "    return model.best_params_\n",
    "    \n",
    "    \n",
    "def RandomForest_Model():\n",
    "    model = RandomForestClassifier()\n",
    "    hyperparameter_space = {'n_estimators' : [350, 375, 400],\n",
    "                            'max_features' : ['auto', 'log2']\n",
    "                           }\n",
    "\n",
    "    best_params = Best_Parameters(model, hyperparameter_space)\n",
    "    rf = RandomForestClassifier(n_estimators=best_params['n_estimators'], \n",
    "                                max_features=best_params['max_features']).fit(x_train, y_train)\n",
    "    print (best_params)\n",
    "    return rf\n",
    "\n",
    "\n",
    "def SVM_Model():\n",
    "    model = SVC()\n",
    "    hyperparameter_space = {'gamma': ['auto'], \n",
    "                            'C': [10, 15]}\n",
    "\n",
    "    best_params = Best_Parameters(model, hyperparameter_space)\n",
    "    svc = SVC(gamma = best_params['gamma'], \n",
    "              C = best_params['C']).fit(x_train, y_train)\n",
    "    print (best_params)\n",
    "    return svc\n",
    "\n",
    "\n",
    "def KNN_Model():\n",
    "    model = KNeighborsClassifier()\n",
    "    hyperparameter_space = {'n_neighbors': [16, 18, 20], \n",
    "                            'leaf_size': [25]}\n",
    "\n",
    "    best_params = Best_Parameters(model, hyperparameter_space)\n",
    "    knn = KNeighborsClassifier(n_neighbors = best_params['n_neighbors'], \n",
    "                               leaf_size = best_params['leaf_size']).fit(x_train, y_train)\n",
    "    print (best_params)\n",
    "    return knn\n",
    "\n",
    "\n",
    "def Prediction(model, data):\n",
    "    prediction = {}\n",
    "    try:\n",
    "        predicted = model.predict(data.values)\n",
    "        prediction['predicted'] = predicted\n",
    "\n",
    "        predicted_proba = model.predict_proba(data.values)\n",
    "        prediction['predicted_proba'] = predicted_proba\n",
    "    except:\n",
    "        pass\n",
    "    \n",
    "    return prediction\n",
    "    \n",
    "\n",
    "def Result(model):\n",
    "    result = {}\n",
    "    OutcomeType = ['not Break', 'Break']\n",
    "    \n",
    "    result['model'] = model\n",
    "    result['prediction'] = Prediction(model, x_test)\n",
    "    result['report'] = classification_report(y_test, \n",
    "                                             Prediction(model, x_test)['predicted'],\n",
    "                                             target_names=OutcomeType)\n",
    "    result['score'] = model.score(x_test, y_test)\n",
    "    \n",
    "    return result\n",
    "\n",
    "\n",
    "def Show_Feature_Importances(f_importances):\n",
    "    f_importances = rf.feature_importances_\n",
    "    indices = f_importances.argsort()[::-1] # rank 높은 index부터 정렬\n",
    "    f_importances_sorted = []\n",
    "    for idx in indices:\n",
    "        f_importances_sorted.append(f_importances[idx])\n",
    "\n",
    "    pd.Series(f_importances_sorted, index=copy.columns).plot(kind='bar', color='r')"
   ]
  },
  {
   "cell_type": "markdown",
   "metadata": {},
   "source": [
    "## KNN"
   ]
  },
  {
   "cell_type": "markdown",
   "metadata": {},
   "source": [
    "#### Model Selection"
   ]
  },
  {
   "cell_type": "code",
   "execution_count": 56,
   "metadata": {
    "scrolled": true
   },
   "outputs": [
    {
     "name": "stdout",
     "output_type": "stream",
     "text": [
      "{'leaf_size': 25, 'n_neighbors': 16}\n",
      "CPU times: user 1min 55s, sys: 1.12 s, total: 1min 56s\n",
      "Wall time: 1min 58s\n"
     ]
    }
   ],
   "source": [
    "%%time\n",
    "knn = KNN_Model()"
   ]
  },
  {
   "cell_type": "code",
   "execution_count": 57,
   "metadata": {
    "collapsed": true
   },
   "outputs": [],
   "source": [
    "knn_result = Result(knn)"
   ]
  },
  {
   "cell_type": "code",
   "execution_count": 58,
   "metadata": {
    "scrolled": true
   },
   "outputs": [
    {
     "name": "stdout",
     "output_type": "stream",
     "text": [
      "{'model': KNeighborsClassifier(algorithm='auto', leaf_size=25, metric='minkowski',\n",
      "           metric_params=None, n_jobs=1, n_neighbors=16, p=2,\n",
      "           weights='uniform'),\n",
      " 'prediction': {'predicted': array([0, 1, 1, ..., 0, 0, 1]),\n",
      "                'predicted_proba': array([[ 0.875 ,  0.125 ],\n",
      "       [ 0.375 ,  0.625 ],\n",
      "       [ 0.375 ,  0.625 ],\n",
      "       ..., \n",
      "       [ 0.8125,  0.1875],\n",
      "       [ 0.5625,  0.4375],\n",
      "       [ 0.    ,  1.    ]])},\n",
      " 'report': '             precision    recall  f1-score   support\\n'\n",
      "           '\\n'\n",
      "           '  not Break       0.95      0.50      0.66      9694\\n'\n",
      "           '      Break       0.09      0.65      0.16       762\\n'\n",
      "           '\\n'\n",
      "           'avg / total       0.89      0.51      0.62     10456\\n',\n",
      " 'score': 0.51243305279265494}\n"
     ]
    }
   ],
   "source": [
    "pprint (knn_result)"
   ]
  },
  {
   "cell_type": "markdown",
   "metadata": {},
   "source": [
    "### SVM"
   ]
  },
  {
   "cell_type": "markdown",
   "metadata": {},
   "source": [
    "#### Model Selection"
   ]
  },
  {
   "cell_type": "code",
   "execution_count": 59,
   "metadata": {},
   "outputs": [
    {
     "name": "stdout",
     "output_type": "stream",
     "text": [
      "{'C': 10, 'gamma': 'auto'}\n",
      "CPU times: user 9min 2s, sys: 9.36 s, total: 9min 12s\n",
      "Wall time: 9min 17s\n"
     ]
    }
   ],
   "source": [
    "%%time\n",
    "svc = SVM_Model()"
   ]
  },
  {
   "cell_type": "code",
   "execution_count": 60,
   "metadata": {
    "collapsed": true
   },
   "outputs": [],
   "source": [
    "svc_result = Result(svc)"
   ]
  },
  {
   "cell_type": "code",
   "execution_count": 61,
   "metadata": {
    "scrolled": true
   },
   "outputs": [
    {
     "name": "stdout",
     "output_type": "stream",
     "text": [
      "{'model': SVC(C=10, cache_size=200, class_weight=None, coef0=0.0,\n",
      "  decision_function_shape=None, degree=3, gamma='auto', kernel='rbf',\n",
      "  max_iter=-1, probability=False, random_state=None, shrinking=True,\n",
      "  tol=0.001, verbose=False),\n",
      " 'prediction': {'predicted': array([0, 1, 1, ..., 1, 1, 1])},\n",
      " 'report': '             precision    recall  f1-score   support\\n'\n",
      "           '\\n'\n",
      "           '  not Break       0.88      0.05      0.10      9694\\n'\n",
      "           '      Break       0.07      0.91      0.13       762\\n'\n",
      "           '\\n'\n",
      "           'avg / total       0.82      0.11      0.10     10456\\n',\n",
      " 'score': 0.11294950267788829}\n"
     ]
    }
   ],
   "source": [
    "pprint (svc_result)"
   ]
  },
  {
   "cell_type": "markdown",
   "metadata": {},
   "source": [
    "### Random Forest"
   ]
  },
  {
   "cell_type": "markdown",
   "metadata": {},
   "source": [
    "#### Model Selection"
   ]
  },
  {
   "cell_type": "code",
   "execution_count": 62,
   "metadata": {
    "scrolled": true
   },
   "outputs": [
    {
     "name": "stdout",
     "output_type": "stream",
     "text": [
      "{'max_features': 'auto', 'n_estimators': 350}\n",
      "CPU times: user 9min 58s, sys: 8.18 s, total: 10min 6s\n",
      "Wall time: 10min 7s\n"
     ]
    }
   ],
   "source": [
    "%%time\n",
    "rf = RandomForest_Model()"
   ]
  },
  {
   "cell_type": "code",
   "execution_count": 63,
   "metadata": {
    "collapsed": true
   },
   "outputs": [],
   "source": [
    "rf_result = Result(rf)"
   ]
  },
  {
   "cell_type": "code",
   "execution_count": 64,
   "metadata": {
    "scrolled": false
   },
   "outputs": [
    {
     "name": "stdout",
     "output_type": "stream",
     "text": [
      "{'model': RandomForestClassifier(bootstrap=True, class_weight=None, criterion='gini',\n",
      "            max_depth=None, max_features='auto', max_leaf_nodes=None,\n",
      "            min_impurity_split=1e-07, min_samples_leaf=1,\n",
      "            min_samples_split=2, min_weight_fraction_leaf=0.0,\n",
      "            n_estimators=350, n_jobs=1, oob_score=False, random_state=None,\n",
      "            verbose=0, warm_start=False),\n",
      " 'prediction': {'predicted': array([1, 1, 1, ..., 0, 1, 1]),\n",
      "                'predicted_proba': array([[ 0.19714286,  0.80285714],\n",
      "       [ 0.05991404,  0.94008596],\n",
      "       [ 0.05991404,  0.94008596],\n",
      "       ..., \n",
      "       [ 0.51142857,  0.48857143],\n",
      "       [ 0.12      ,  0.88      ],\n",
      "       [ 0.01998016,  0.98001984]])},\n",
      " 'report': '             precision    recall  f1-score   support\\n'\n",
      "           '\\n'\n",
      "           '  not Break       0.83      0.01      0.01      9694\\n'\n",
      "           '      Break       0.07      0.98      0.13       762\\n'\n",
      "           '\\n'\n",
      "           'avg / total       0.77      0.08      0.02     10456\\n',\n",
      " 'score': 0.078232593726090288}\n"
     ]
    }
   ],
   "source": [
    "pprint (rf_result)"
   ]
  },
  {
   "cell_type": "code",
   "execution_count": null,
   "metadata": {
    "collapsed": true
   },
   "outputs": [],
   "source": []
  },
  {
   "cell_type": "code",
   "execution_count": null,
   "metadata": {
    "collapsed": true
   },
   "outputs": [],
   "source": []
  },
  {
   "cell_type": "code",
   "execution_count": null,
   "metadata": {
    "collapsed": true
   },
   "outputs": [],
   "source": []
  }
 ],
 "metadata": {
  "kernelspec": {
   "display_name": "Python 3",
   "language": "python",
   "name": "python3"
  },
  "language_info": {
   "codemirror_mode": {
    "name": "ipython",
    "version": 3
   },
   "file_extension": ".py",
   "mimetype": "text/x-python",
   "name": "python",
   "nbconvert_exporter": "python",
   "pygments_lexer": "ipython3",
   "version": "3.6.1"
  }
 },
 "nbformat": 4,
 "nbformat_minor": 2
}
